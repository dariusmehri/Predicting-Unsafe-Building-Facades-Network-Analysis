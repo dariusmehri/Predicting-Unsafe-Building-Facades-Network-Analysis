{
 "cells": [
  {
   "cell_type": "code",
   "execution_count": null,
   "metadata": {
    "collapsed": true
   },
   "outputs": [],
   "source": [
    "#import pluto data\n",
    "import pandas as pd\n",
    "import numpy as np\n",
    "\n",
    "dfPluto =  pd.read_csv(\"S:\\\\Office of Risk Management\\\\User Folders\\\\Darius Mehri\\\\PLUTO\\\\MapPLUTO_BINs_1toManyJOIN.csv\", low_memory=False )\n"
   ]
  },
  {
   "cell_type": "code",
   "execution_count": null,
   "metadata": {
    "collapsed": false
   },
   "outputs": [],
   "source": [
    "#dfOwn = dfPluto.set_index('BIN')['OwnerName'].to_dict()\n",
    "dfPluto[\"bin\"] = dfPluto[\"bin\"].astype(int)\n",
    "dfPluto[\"bin\"] = dfPluto[\"bin\"].astype(str)\n",
    "dfOwn = dfPluto.set_index('bin')['OwnerName'].to_dict()"
   ]
  },
  {
   "cell_type": "code",
   "execution_count": null,
   "metadata": {
    "collapsed": false
   },
   "outputs": [],
   "source": [
    "dfo = dfPluto[[\"bin\", \"OwnerName\"]]"
   ]
  },
  {
   "cell_type": "code",
   "execution_count": null,
   "metadata": {
    "collapsed": false
   },
   "outputs": [],
   "source": [
    "dfo.head(3)"
   ]
  },
  {
   "cell_type": "code",
   "execution_count": null,
   "metadata": {
    "collapsed": false
   },
   "outputs": [],
   "source": [
    "#import cycle history, for each building, filings safe or unsafe\n",
    "\n",
    "import pandas as pd\n",
    "import numpy as np\n",
    "\n",
    "df = pd.read_csv(\"S:\\\\Office of Risk Management\\\\User Folders\\\\Darius Mehri\\\\Facade Predictive Analysis\\\\Cycle 5-8 Non DOB NOW Facade Filings (11-22-16).csv\", low_memory=False )\n",
    "\n",
    "df['Initial File Date Raw'] = df['Initial File Date Raw'].astype(str)\n",
    "df['Initial File Date'] =  df['Initial File Date Raw'].apply(lambda x: x[4:6]) + \"/\" + df['Initial File Date Raw'].apply(lambda x: x[6:8]) + \"/\" + df['Initial File Date Raw'].apply(lambda x: x[:4])\n",
    "\n",
    "df['Initial File Date'] = df['Initial File Date'].str.replace('//', '')\n",
    "\n",
    "df['Initial File Year'] = df['Initial File Date Raw'].apply(lambda x: x[:4])\n",
    "\n",
    "#df[\"BIN\"] = df[\"BIN\"].astype(int)\n",
    "\n",
    "print \"drop current status of NR\"\n",
    "print \"original length of df\", len(df)\n",
    "df = df[df['Current Status'] != 'NR']\n",
    "#df = df[df['BIN'] != ' ']\n",
    "\n",
    "df = df.reset_index(drop=True)\n",
    "print \"new length of df\", len(df)\n",
    "\n",
    "print\n",
    "print \"drop rows with BIN = 0\"\n",
    "df = df[np.isfinite(df['BIN'])]\n",
    "print \"new length of df\", len(df)\n",
    "df[\"BIN\"] = df[\"BIN\"].astype(int)\n",
    "\n",
    "df = df[[\"BIN\", \"Facade Cycle\", \"Number of Stories\", \"Initial Filing Status\", \"Current Status\", \\\n",
    "         \"Initial File Date\", \"Initial File Year\", \"Owner Name\", \"Owner Business Name\", \"Owner Address\", \"Owner City\", \"Owner State\", \\\n",
    "         \"Owner Type\", \"Boro\", \"Block\", \"Lot\"]]\n",
    "\n",
    "#drop NaN\n",
    "\n",
    "print \n",
    "print \"drop NaN\"\n",
    "print \"length of df before drop\", len(df)\n",
    "df = df.dropna()\n",
    "print \"length of df after drop\", len(df)\n",
    "\n",
    "df = df.reset_index(drop=True)\n",
    "\n",
    "#drop data before 2005\n",
    "print\n",
    "\n",
    "df = df.reset_index(drop=True)\n"
   ]
  },
  {
   "cell_type": "code",
   "execution_count": null,
   "metadata": {
    "collapsed": false
   },
   "outputs": [],
   "source": [
    "df.head(3)"
   ]
  },
  {
   "cell_type": "code",
   "execution_count": null,
   "metadata": {
    "collapsed": false
   },
   "outputs": [],
   "source": [
    "#create bbl for df\n",
    "df = df.reset_index(drop=True)\n",
    "\n",
    "df[\"Boro\"] = df[\"Boro\"].astype(int)\n",
    "df[\"Block\"] = df[\"Block\"].astype(int)\n",
    "df[\"Lot\"] = df[\"Lot\"].astype(int)\n",
    "\n",
    "df[\"Boro\"] = df[\"Boro\"].astype(str)\n",
    "df[\"Block\"] = df[\"Block\"].astype(str)\n",
    "df[\"Lot\"] = df[\"Lot\"].astype(str)\n",
    "\n",
    "df[\"Boro\"] = df[\"Boro\"].map(str.strip)\n",
    "df[\"Block\"] = df[\"Block\"].map(str.strip)\n",
    "df[\"Lot\"] = df[\"Lot\"].map(str.strip)\n",
    "\n",
    "\n",
    "\n",
    "#create BBL\n",
    "for i in range(0, len(df)):\n",
    "    if len(df[\"Block\"][i]) == 1:\n",
    "        df[\"Block\"][i] = \"0000\" + df[\"Block\"][i] \n",
    "    if len(df[\"Block\"][i]) == 2:\n",
    "        df[\"Block\"][i] = \"000\" + df[\"Block\"][i]\n",
    "    if len(df[\"Block\"][i]) == 3:\n",
    "        df[\"Block\"][i] = \"00\" + df[\"Block\"][i]\n",
    "    if len(df[\"Block\"][i]) == 4:\n",
    "        df[\"Block\"][i] = \"0\" + df[\"Block\"][i]\n",
    " \n",
    "    if len(df[\"Lot\"][i]) == 1:\n",
    "        df[\"Lot\"][i] = \"000\" + df[\"Lot\"][i]\n",
    "    if len(df[\"Lot\"][i]) == 2:\n",
    "        df[\"Lot\"][i] = \"00\" + df[\"Lot\"][i]\n",
    "    if len(df[\"Lot\"][i]) == 3:\n",
    "        df[\"Lot\"][i] = \"0\" + df[\"Lot\"][i] \n",
    "\n",
    "        \n",
    "df[\"BBL\"] = df[\"Boro\"] +  df[\"Block\"] + df[\"Lot\"]"
   ]
  },
  {
   "cell_type": "code",
   "execution_count": null,
   "metadata": {
    "collapsed": false
   },
   "outputs": [],
   "source": [
    "#import tax liens to add to dataset\n",
    "dfTax =  pd.read_csv(\"S:\\\\Office of Risk Management\\\\User Folders\\\\Darius Mehri\\\\Facade Predictive Analysis\\\\Tax_Lien_Sale_Lists.csv\", low_memory=False )\n",
    "\n",
    "dfTax = dfTax.rename(columns={'Block ': 'Block'})\n",
    "\n",
    "\n",
    "dfTax[\"Borough\"] = dfTax[\"Borough\"].astype(int)\n",
    "dfTax[\"Block\"] = dfTax[\"Block\"].astype(int)\n",
    "dfTax[\"Lot\"] = dfTax[\"Lot\"].astype(int)\n",
    "\n",
    "dfTax[\"Borough\"] = dfTax[\"Borough\"].astype(str)\n",
    "dfTax[\"Block\"] = dfTax[\"Block\"].astype(str)\n",
    "dfTax[\"Lot\"] = dfTax[\"Lot\"].astype(str)\n",
    "\n",
    "dfTax[\"Borough\"] = dfTax[\"Borough\"].map(str.strip)\n",
    "dfTax[\"Block\"] = dfTax[\"Block\"].map(str.strip)\n",
    "dfTax[\"Lot\"] = dfTax[\"Lot\"].map(str.strip)\n",
    "\n",
    "\n",
    "#create BBL\n",
    "for i in range(0, len(dfTax)):\n",
    "    if len(dfTax[\"Block\"][i]) == 2:\n",
    "        dfTax[\"Block\"][i] = \"000\" + dfTax[\"Block\"][i]\n",
    "    if len(dfTax[\"Block\"][i]) == 3:\n",
    "        dfTax[\"Block\"][i] = \"00\" + dfTax[\"Block\"][i]\n",
    "    if len(dfTax[\"Block\"][i]) == 4:\n",
    "        dfTax[\"Block\"][i] = \"0\" + dfTax[\"Block\"][i]\n",
    " \n",
    "    if len(dfTax[\"Lot\"][i]) == 1:\n",
    "        dfTax[\"Lot\"][i] = \"000\" + dfTax[\"Lot\"][i]\n",
    "    if len(dfTax[\"Lot\"][i]) == 2:\n",
    "        dfTax[\"Lot\"][i] = \"00\" + dfTax[\"Lot\"][i]\n",
    "    if len(dfTax[\"Lot\"][i]) == 3:\n",
    "        dfTax[\"Lot\"][i] = \"0\" + dfTax[\"Lot\"][i] \n",
    "\n",
    "        \n",
    "dfTax[\"BBL\"] = dfTax[\"Borough\"] +  dfTax[\"Block\"] + dfTax[\"Lot\"]\n",
    "\n",
    "#get set of bbls \n",
    "tax_list = []\n",
    "\n",
    "for i in range(0, len(dfTax)):\n",
    "    tax_list.append(dfTax[\"BBL\"][i])\n",
    "    \n",
    "tax_set = set(tax_list)\n",
    "tax_set = list(tax_set)\n",
    "\n",
    "print \"length of dfTax\", len(dfTax)\n",
    "print \"length of tax_set\", len(tax_set)"
   ]
  },
  {
   "cell_type": "code",
   "execution_count": null,
   "metadata": {
    "collapsed": false
   },
   "outputs": [],
   "source": [
    "#label if have tax lien\n",
    "df[\"Tax Lien\"] = 0\n",
    "count = 0\n",
    "for i in range(0, len(df)):\n",
    "    if df[\"BBL\"][i] in tax_set:\n",
    "        count+=1\n",
    "        df[\"Tax Lien\"][i] = 1\n",
    "print count"
   ]
  },
  {
   "cell_type": "code",
   "execution_count": null,
   "metadata": {
    "collapsed": false
   },
   "outputs": [],
   "source": [
    "df[\"BBL\"][0]"
   ]
  },
  {
   "cell_type": "code",
   "execution_count": null,
   "metadata": {
    "collapsed": false
   },
   "outputs": [],
   "source": [
    "print len(df)"
   ]
  },
  {
   "cell_type": "code",
   "execution_count": null,
   "metadata": {
    "collapsed": false
   },
   "outputs": [],
   "source": [
    "#assign a pluto owner to each bin\n",
    "df[\"BIN\"] = df[\"BIN\"].astype(str)\n",
    "\n",
    "df[\"PlutoOwner\"] = ''\n",
    "\n",
    "count=0\n",
    "\n",
    "\n",
    "\n",
    "for i in range(0, len(df)):\n",
    "    if df[\"BIN\"][i] in dfOwn:\n",
    "        count+=1\n",
    "        df[\"PlutoOwner\"][i] = dfOwn[df[\"BIN\"][i]]\n",
    "print count\n",
    "\n",
    "print \"length of df before dropping null owners\", len(df)\n",
    "df = df[pd.notnull(df['PlutoOwner'])]\n",
    "#df = df[df[\"PlutoOwner\"] != 'none']\n",
    "print \"length after drop\", len(df)\n",
    "df = df.reset_index(drop=True)"
   ]
  },
  {
   "cell_type": "code",
   "execution_count": null,
   "metadata": {
    "collapsed": false
   },
   "outputs": [],
   "source": [
    "#Create unsafe, safe and swarmp fields\n",
    "pd.set_option('chained_assignment', None)\n",
    "\n",
    "df[\"Initial Filing Status\"] = df[\"Initial Filing Status\"].map(str.strip)\n",
    "\n",
    "df[\"UN\"] = 0\n",
    "df[\"SW\"] = 0\n",
    "df[\"OK\"] = 0\n",
    "\n",
    "for i in range(0, len(df)):\n",
    "    if df[\"Initial Filing Status\"][i] == \"UN\":\n",
    "        df[\"UN\"][i] = 1\n",
    "    if df[\"Initial Filing Status\"][i] == \"SW\":\n",
    "        df[\"SW\"][i] = 1\n",
    "    if df[\"Initial Filing Status\"][i] == \"OK\":\n",
    "        df[\"OK\"][i] = 1\n",
    "    \n",
    "    "
   ]
  },
  {
   "cell_type": "code",
   "execution_count": null,
   "metadata": {
    "collapsed": false
   },
   "outputs": [],
   "source": [
    "df.head()"
   ]
  },
  {
   "cell_type": "code",
   "execution_count": null,
   "metadata": {
    "collapsed": false
   },
   "outputs": [],
   "source": [
    "#count up the number of unsafe, safe and swarmp initial status\n",
    "df2 = df[[\"PlutoOwner\", 'UN', 'SW', 'OK', 'Tax Lien']]\n",
    "\n",
    "#clean address first before grouping\n",
    "df2[\"PlutoOwner\"] = df2[\"PlutoOwner\"].astype(str)\n",
    "df2[\"PlutoOwner\"] = df2[\"PlutoOwner\"].str.replace('[^\\x00-\\x7F]','')\n",
    "df2[\"PlutoOwner\"] = df2[\"PlutoOwner\"].str.replace('.',' ')\n",
    "df2[\"PlutoOwner\"] = df2[\"PlutoOwner\"].str.replace(',',' ')\n",
    "df2[\"PlutoOwner\"] = df2[\"PlutoOwner\"].str.replace('  ',' ')\n",
    "df2[\"PlutoOwner\"] = df2[\"PlutoOwner\"].map(str.strip)\n",
    "\n",
    "df2G = (df2.groupby('PlutoOwner').agg({'UN':'sum', 'SW': 'sum', 'OK':'sum', 'Tax Lien': 'sum'})).reset_index()\n",
    "\n",
    "\n",
    "df2G[\"Risk1\"] = (0.7*df2G[\"UN\"] + 0.3*df2G[\"SW\"] + 0*df2G[\"OK\"])/(df2G[\"UN\"] + df2G[\"SW\"] + df2G[\"OK\"])\n",
    "\n",
    "df2G[\"Risk Unsafe\"] = (df2G[\"UN\"])/(df2G[\"UN\"] + df2G[\"SW\"] + df2G[\"OK\"])\n",
    "\n",
    "df2G = df2G.sort_values(by = 'Risk Unsafe', ascending=False).reset_index(drop=True)\n",
    "\n",
    "print len(df2G)\n",
    "print len(df2)\n",
    "\n",
    "\n"
   ]
  },
  {
   "cell_type": "code",
   "execution_count": null,
   "metadata": {
    "collapsed": false
   },
   "outputs": [],
   "source": [
    "df2G.to_csv(\"S:\\\\Office of Risk Management\\\\User Folders\\\\Darius Mehri\\\\Facade Predictive Analysis\\\\OWNERSHIP RISK.csv\")"
   ]
  },
  {
   "cell_type": "code",
   "execution_count": null,
   "metadata": {
    "collapsed": false
   },
   "outputs": [],
   "source": [
    "df2G = df2G[[\"PlutoOwner\", \"UN\", \"SW\", \"OK\",\"Tax Lien\", \"Risk1\", \"Risk Unsafe\"]]\n",
    "df2G"
   ]
  },
  {
   "cell_type": "code",
   "execution_count": null,
   "metadata": {
    "collapsed": false
   },
   "outputs": [],
   "source": [
    "\"\"\"\n",
    "#use pluto data to determine if we know the filing history\n",
    "dfP = dfPluto[[\"bin\", \"OwnerName\", \"Address\", \"NumFloors\",  \"Borough\", \"XCoord\", \"YCoord\"]]\n",
    "\n",
    "dfP[\"OwnerName\"] = dfP[\"OwnerName\"].astype(str)\n",
    "dfP[\"OwnerName\"] = dfP[\"OwnerName\"].str.replace('[^\\x00-\\x7F]','')\n",
    "dfP[\"OwnerName\"] = dfP[\"OwnerName\"].str.replace('.',' ')\n",
    "dfP[\"OwnerName\"] = dfP[\"OwnerName\"].str.replace(',',' ')\n",
    "dfP[\"OwnerName\"] = dfP[\"OwnerName\"].str.replace('  ',' ')\n",
    "dfP[\"OwnerName\"] = dfP[\"OwnerName\"].map(str.strip)\n",
    "\n",
    "dfP = dfP[dfP[\"NumFloors\"] >= 6]\n",
    "\n",
    "dfP = dfP.reset_index(drop=True)\n",
    "\n",
    "\n",
    "print len(dfP)\n",
    "\"\"\""
   ]
  },
  {
   "cell_type": "code",
   "execution_count": null,
   "metadata": {
    "collapsed": false
   },
   "outputs": [],
   "source": [
    "#label each bin as known or unknown filing history, known if bin is in the \n",
    "#APPLY TO SUBSET OF PLUTO DATA\n",
    "df = df.reset_index(drop=True)\n",
    "\n",
    "#get set of bins\n",
    "bin_list = []\n",
    "\n",
    "for i in range(0, len(df)):\n",
    "    bin_list.append(df[\"BIN\"][i])\n",
    "    \n",
    "bin_set = set(bin_list)\n",
    "bin_set = list(bin_set)\n",
    "\n",
    "dfP[\"Compliance Known\"] = \"\"\n",
    "\n",
    "for i in range(0, len(dfP)):\n",
    "    if i%1000 == 0:\n",
    "        print i\n",
    "    if dfP[\"bin\"][i] in bin_set:\n",
    "        dfP[\"Compliance Known\"][i] = 1\n",
    "    else:\n",
    "        dfP[\"Compliance Known\"][i] = 0\n",
    "        \n",
    "        \n",
    "count = dfP[dfP[\"Compliance Known\"] == 1]\n",
    "print\n",
    "print len(count)"
   ]
  },
  {
   "cell_type": "code",
   "execution_count": null,
   "metadata": {
    "collapsed": false
   },
   "outputs": [],
   "source": [
    "#label each bin as known or unknown filing history, known if bin is in the \n",
    "#APPLY TO ALL OF PLUTO DATA\n",
    "df = df.reset_index(drop=True)\n",
    "\n",
    "\n",
    "#Add failure to maintain and complaints\n",
    "#Add Facade violations\n",
    "fv = pd.read_csv(\"S:\\\\Office of Risk Management\\\\User Folders\\\\Darius Mehri\\\\Facade Predictive Analysis\\\\Failure to maintain_protect (All years, all classes, REVISED).csv\", low_memory=False )\n",
    "fv[\"Vio Issued Date\"] = pd.to_datetime(fv[\"Vio Issued Date\"])\n",
    "\n",
    "fv[\"BIN\"] = fv[\"BIN\"].astype(str)\n",
    "\n",
    "initial_date = \"1-1-2006\"\n",
    "#print \"initial date\", initial_date\n",
    "mask = (fv['Vio Issued Date'] > initial_date)\n",
    "fv = fv.loc[mask] \n",
    "\n",
    "fv = fv.sort_values(by = 'Vio Issued Date', ascending=True).reset_index(drop=True)\n",
    "\n",
    "#get set of bins for failure to maintain\n",
    "f_list = []\n",
    "for i in range(0, len(fv)):\n",
    "    f_list.append(fv[\"BIN\"][i])\n",
    "    \n",
    "f_set = set(f_list)\n",
    "f_set = list(f_set)\n",
    "\n",
    "\n",
    "dc = pd.read_csv(\"S:\\\\Office of Risk Management\\\\User Folders\\\\Darius Mehri\\\\Facade Predictive Analysis\\\\Facade, Brickwork, Exterior Wall Complaints.csv\", low_memory=False )\n",
    "\n",
    "dc[\"Date Entered\"] = pd.to_datetime(dc[\"Date Entered\"])\n",
    "dc[\"BIN Number\"] = dc[\"BIN Number\"].astype(str)\n",
    "\n",
    "initial_date = \"1-1-2006\"\n",
    "#print \"initial date\", initial_date\n",
    "mask = (dc[\"Date Entered\"] > initial_date)\n",
    "dc = dc.loc[mask] \n",
    "\n",
    "dc = dc.sort_values(by = 'Date Entered', ascending=True).reset_index(drop=True)\n",
    "\n",
    "#get set of bins for complaints\n",
    "c_list = []\n",
    "for i in range(0, len(dc)):\n",
    "    c_list.append(dc[\"BIN Number\"][i])\n",
    "    \n",
    "c_set = set(c_list)\n",
    "c_set = list(c_set)\n",
    "\n",
    "\n",
    "\n",
    "#get set of bins\n",
    "bin_list = []\n",
    "\n",
    "for i in range(0, len(df)):\n",
    "    bin_list.append(df[\"BIN\"][i])\n",
    "    \n",
    "bin_set = set(bin_list)\n",
    "bin_set = list(bin_set)\n",
    "\n",
    "\n",
    "\n",
    "dfPluto[\"Compliance Known\"] = 0\n",
    "dfPluto[\"Failure Maintain\"] = 0\n",
    "dfPluto[\"Complaint\"] = 0\n",
    "\n",
    "for i in range(0, len(dfPluto)):\n",
    "    if i%50000 == 0:\n",
    "        print i\n",
    "    if dfPluto[\"bin\"][i] in bin_set:\n",
    "        dfPluto[\"Compliance Known\"][i] = 1\n",
    "    if dfPluto[\"bin\"][i] in f_set:\n",
    "        dfPluto[\"Failure Maintain\"][i] = 1\n",
    "    if dfPluto[\"bin\"][i] in c_set:\n",
    "        dfPluto[\"Complaint\"][i] = 1\n",
    "        \n",
    "        \n",
    "count = dfPluto[dfPluto[\"Compliance Known\"] == 1]\n",
    "print\n",
    "print len(count)"
   ]
  },
  {
   "cell_type": "code",
   "execution_count": null,
   "metadata": {
    "collapsed": false
   },
   "outputs": [],
   "source": [
    "dfPluto[\"bin\"][0]"
   ]
  },
  {
   "cell_type": "code",
   "execution_count": null,
   "metadata": {
    "collapsed": false
   },
   "outputs": [],
   "source": [
    "f_set[0]"
   ]
  },
  {
   "cell_type": "code",
   "execution_count": null,
   "metadata": {
    "collapsed": true
   },
   "outputs": [],
   "source": [
    "dfPluto.to_csv(\"S:\\\\Office of Risk Management\\\\User Folders\\\\Darius Mehri\\\\PLUTO\\\\MapPLUTO_BINs_1toManyJOINCompKnown.csv\", low_memory=False )\n"
   ]
  },
  {
   "cell_type": "code",
   "execution_count": null,
   "metadata": {
    "collapsed": true
   },
   "outputs": [],
   "source": []
  },
  {
   "cell_type": "code",
   "execution_count": null,
   "metadata": {
    "collapsed": false
   },
   "outputs": [],
   "source": [
    "#subset the cycle history data to get only very bad actors\n",
    "bad_actors1 = df2G[df2G[\"Risk Unsafe\"] > 0.65]\n",
    "bad_actors1 = bad_actors1[bad_actors1[\"UN\"] > 2]\n",
    "bad_actors1 = bad_actors1.reset_index(drop=True)\n",
    "\n",
    "print len(df2G)\n",
    "print len(bad_actors1)"
   ]
  },
  {
   "cell_type": "code",
   "execution_count": null,
   "metadata": {
    "collapsed": false
   },
   "outputs": [],
   "source": [
    "bad_actors1"
   ]
  },
  {
   "cell_type": "code",
   "execution_count": null,
   "metadata": {
    "collapsed": false
   },
   "outputs": [],
   "source": [
    "#get bad actor owner list\n",
    "#get set of bins\n",
    "bad_list = []\n",
    "\n",
    "for i in range(0, len(bad_actors1)):\n",
    "    bad_list.append(bad_actors1[\"PlutoOwner\"][i])\n",
    "    \n",
    "bad_set = set(bad_list)\n",
    "bad_set = list(bad_set)\n"
   ]
  },
  {
   "cell_type": "code",
   "execution_count": null,
   "metadata": {
    "collapsed": false
   },
   "outputs": [],
   "source": [
    "#get bad actors\n",
    "\n",
    "qn = pd.DataFrame(columns=('BIN', 'OwnerName', 'Address', 'Boro', 'NumFloors', 'XCoord', 'YCoord','Compliance Known', 'Failure Maintain', 'Facade Complaint', 'YearBuilt'))\n",
    "\n",
    "dfPluto = dfPluto.reset_index(drop=True)\n",
    "   \n",
    "        \n",
    "for i in range(0, len(dfPluto)):\n",
    "    if i%50000 == 0:\n",
    "        print i\n",
    "    if dfPluto[\"OwnerName\"][i] in bad_set:\n",
    "        qn.loc[i] =  [dfPluto[\"bin\"][i], dfPluto[\"OwnerName\"][i], dfPluto[\"Address\"][i], dfPluto[\"Borough\"][i], dfPluto[\"NumFloors\"][i],dfPluto[\"XCoord\"][i], dfPluto[\"YCoord\"][i], dfPluto[\"Compliance Known\"][i], \\\n",
    "                      dfPluto[\"Failure Maintain\"][i], dfPluto[\"Complaint\"][i], dfPluto[\"YearBuilt\"][i]   ]"
   ]
  },
  {
   "cell_type": "code",
   "execution_count": null,
   "metadata": {
    "collapsed": false
   },
   "outputs": [],
   "source": [
    "qn"
   ]
  },
  {
   "cell_type": "code",
   "execution_count": null,
   "metadata": {
    "collapsed": false
   },
   "outputs": [],
   "source": [
    "\"\"\"\n",
    "qn[\"Address\"] = qn[\"Address\"].map(str.strip)\n",
    "qn[\"Boro\"] = qn[\"Boro\"].map(str.strip)\n",
    "qn[\"Address Full\"] = qn[\"Address\"] + \" \" + qn[\"Boro\"]\n",
    "\n",
    "qn2 = (qn.groupby('Address Full').agg({'Compliance Known':'sum', 'Failure Maintain':'sum', 'Facade Complaint': 'sum'})).reset_index()\n",
    "\n",
    "qn2 = qn2.sort_values(by = 'Compliance Known', ascending=True).reset_index(drop=True)\n",
    "\"\"\""
   ]
  },
  {
   "cell_type": "code",
   "execution_count": null,
   "metadata": {
    "collapsed": false
   },
   "outputs": [],
   "source": [
    "bad_set[0]"
   ]
  },
  {
   "cell_type": "code",
   "execution_count": null,
   "metadata": {
    "collapsed": false
   },
   "outputs": [],
   "source": [
    "qn[\"Address\"] = qn[\"Address\"].map(str.strip)\n",
    "qn[\"Boro\"] = qn[\"Boro\"].map(str.strip)\n",
    "qn[\"Address Full\"] = qn[\"Address\"] + \" \" + qn[\"Boro\"]\n",
    "\n",
    "qn = qn.reset_index(drop=True)\n",
    "\n",
    "#get owner name list\n",
    "\n",
    "counter = 0\n",
    "\n",
    "final_list = pd.DataFrame(columns=('BIN', 'OwnerName', 'Address',  'NumFloors', 'XCoord', 'YCoord', 'Facade Complaint', 'YearBuilt'))\n",
    "\n",
    "for i in range(0, len(bad_set)):\n",
    "    #subset by owner\n",
    "    qn2 = qn[qn['OwnerName'] == bad_set[i]]\n",
    "    qn2 = qn2.reset_index(drop=True)\n",
    "    \n",
    "    for j in range(0, len(qn2)):\n",
    "        #subset by address\n",
    "        qn3 = qn2[qn2['Address Full'] == qn2[\"Address Full\"][j]]\n",
    "        \n",
    "        #sum compliance and failure to maintain, if zero then building is not known to DOB\n",
    "        sum_comp = qn3[\"Compliance Known\"].sum()\n",
    "        sum_failure = qn3[\"Failure Maintain\"].sum()\n",
    "        #sum_complaint = qn3[\"Facade Complaint\"].sum()\n",
    "        \n",
    "        if (sum_comp == 0 and sum_failure == 0):\n",
    "            #print qn3[\"BIN\"][j],qn3[\"OwnerName\"][j],qn3[\"Address Full\"][j]  \n",
    "            print qn3[\"BIN\"][j],qn3[\"OwnerName\"][j],qn3[\"Address Full\"][j],qn3[\"NumFloors\"][j], qn3[\"XCoord\"][j],qn3[\"YCoord\"][j], qn3[\"Facade Complaint\"][j] \n",
    "            final_list.loc[counter] = [qn3[\"BIN\"][j],qn3[\"OwnerName\"][j],qn3[\"Address Full\"][j],qn3[\"NumFloors\"][j], qn3[\"XCoord\"][j],qn3[\"YCoord\"][j], qn3[\"Facade Complaint\"][j], qn3[\"YearBuilt\"][j]  ]\n",
    "            counter +=1\n",
    "\n",
    "\n",
    "\n",
    "    \n",
    "    \n",
    "    #print qn2['OwnerName'],  qn2['Address']\n",
    "    #print\n",
    "    "
   ]
  },
  {
   "cell_type": "code",
   "execution_count": null,
   "metadata": {
    "collapsed": false
   },
   "outputs": [],
   "source": [
    "final_list\n",
    "\n",
    "final_list = final_list[final_list[\"NumFloors\"] > 2]\n",
    "final_list = final_list.drop_duplicates(subset=['Address']).reset_index(drop=True)\n",
    "\n",
    "print len(final_list)\n",
    "\n",
    "final_list.to_csv(\"S:\\\\Office of Risk Management\\\\User Folders\\\\Darius Mehri\\\\Facade Predictive Analysis\\\\final_list2.csv\", low_memory=False )\n"
   ]
  },
  {
   "cell_type": "code",
   "execution_count": null,
   "metadata": {
    "collapsed": false
   },
   "outputs": [],
   "source": [
    "final_list"
   ]
  }
 ],
 "metadata": {
  "kernelspec": {
   "display_name": "Python 2",
   "language": "python",
   "name": "python2"
  },
  "language_info": {
   "codemirror_mode": {
    "name": "ipython",
    "version": 2
   },
   "file_extension": ".py",
   "mimetype": "text/x-python",
   "name": "python",
   "nbconvert_exporter": "python",
   "pygments_lexer": "ipython2",
   "version": "2.7.11"
  }
 },
 "nbformat": 4,
 "nbformat_minor": 0
}
